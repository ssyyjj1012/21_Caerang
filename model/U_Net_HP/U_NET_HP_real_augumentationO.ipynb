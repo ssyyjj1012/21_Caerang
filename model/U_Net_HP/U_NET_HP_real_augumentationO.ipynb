{
  "nbformat": 4,
  "nbformat_minor": 0,
  "metadata": {
    "accelerator": "GPU",
    "colab": {
      "name": "check (4).ipynb",
      "provenance": [],
      "collapsed_sections": [],
      "machine_shape": "hm"
    },
    "kernelspec": {
      "display_name": "Python 3 (ipykernel)",
      "language": "python",
      "name": "python3"
    },
    "language_info": {
      "codemirror_mode": {
        "name": "ipython",
        "version": 3
      },
      "file_extension": ".py",
      "mimetype": "text/x-python",
      "name": "python",
      "nbconvert_exporter": "python",
      "pygments_lexer": "ipython3",
      "version": "3.8.8"
    },
    "widgets": {
      "application/vnd.jupyter.widget-state+json": {
        "8f556779baa84f65b570793716022aae": {
          "model_module": "@jupyter-widgets/controls",
          "model_name": "HBoxModel",
          "model_module_version": "1.5.0",
          "state": {
            "_view_name": "HBoxView",
            "_dom_classes": [],
            "_model_name": "HBoxModel",
            "_view_module": "@jupyter-widgets/controls",
            "_model_module_version": "1.5.0",
            "_view_count": null,
            "_view_module_version": "1.5.0",
            "box_style": "",
            "layout": "IPY_MODEL_bca048c802ce415db7cce002deaa9c50",
            "_model_module": "@jupyter-widgets/controls",
            "children": [
              "IPY_MODEL_47f283337ca94b148ef6a6dbdd8f6634",
              "IPY_MODEL_7689f69fcde5411b8e6ecbff2efa71ad",
              "IPY_MODEL_d28f8cd1db584f26b122694b6b23f0fa"
            ]
          }
        },
        "bca048c802ce415db7cce002deaa9c50": {
          "model_module": "@jupyter-widgets/base",
          "model_name": "LayoutModel",
          "model_module_version": "1.2.0",
          "state": {
            "_view_name": "LayoutView",
            "grid_template_rows": null,
            "right": null,
            "justify_content": null,
            "_view_module": "@jupyter-widgets/base",
            "overflow": null,
            "_model_module_version": "1.2.0",
            "_view_count": null,
            "flex_flow": null,
            "width": null,
            "min_width": null,
            "border": null,
            "align_items": null,
            "bottom": null,
            "_model_module": "@jupyter-widgets/base",
            "top": null,
            "grid_column": null,
            "overflow_y": null,
            "overflow_x": null,
            "grid_auto_flow": null,
            "grid_area": null,
            "grid_template_columns": null,
            "flex": null,
            "_model_name": "LayoutModel",
            "justify_items": null,
            "grid_row": null,
            "max_height": null,
            "align_content": null,
            "visibility": null,
            "align_self": null,
            "height": null,
            "min_height": null,
            "padding": null,
            "grid_auto_rows": null,
            "grid_gap": null,
            "max_width": null,
            "order": null,
            "_view_module_version": "1.2.0",
            "grid_template_areas": null,
            "object_position": null,
            "object_fit": null,
            "grid_auto_columns": null,
            "margin": null,
            "display": null,
            "left": null
          }
        },
        "47f283337ca94b148ef6a6dbdd8f6634": {
          "model_module": "@jupyter-widgets/controls",
          "model_name": "HTMLModel",
          "model_module_version": "1.5.0",
          "state": {
            "_view_name": "HTMLView",
            "style": "IPY_MODEL_5d9604daadb1494f9619afc87d992e0d",
            "_dom_classes": [],
            "description": "",
            "_model_name": "HTMLModel",
            "placeholder": "​",
            "_view_module": "@jupyter-widgets/controls",
            "_model_module_version": "1.5.0",
            "value": " 45%",
            "_view_count": null,
            "_view_module_version": "1.5.0",
            "description_tooltip": null,
            "_model_module": "@jupyter-widgets/controls",
            "layout": "IPY_MODEL_a475d636bc5b4f7f8dd833e474a46e31"
          }
        },
        "7689f69fcde5411b8e6ecbff2efa71ad": {
          "model_module": "@jupyter-widgets/controls",
          "model_name": "FloatProgressModel",
          "model_module_version": "1.5.0",
          "state": {
            "_view_name": "ProgressView",
            "style": "IPY_MODEL_5edc16d82d0444ba996155021c340919",
            "_dom_classes": [],
            "description": "",
            "_model_name": "FloatProgressModel",
            "bar_style": "",
            "max": 2240,
            "_view_module": "@jupyter-widgets/controls",
            "_model_module_version": "1.5.0",
            "value": 1011,
            "_view_count": null,
            "_view_module_version": "1.5.0",
            "orientation": "horizontal",
            "min": 0,
            "description_tooltip": null,
            "_model_module": "@jupyter-widgets/controls",
            "layout": "IPY_MODEL_87326bcea45b490ea7255138d2676b21"
          }
        },
        "d28f8cd1db584f26b122694b6b23f0fa": {
          "model_module": "@jupyter-widgets/controls",
          "model_name": "HTMLModel",
          "model_module_version": "1.5.0",
          "state": {
            "_view_name": "HTMLView",
            "style": "IPY_MODEL_19913c50b70849489eef24e8247bc5bb",
            "_dom_classes": [],
            "description": "",
            "_model_name": "HTMLModel",
            "placeholder": "​",
            "_view_module": "@jupyter-widgets/controls",
            "_model_module_version": "1.5.0",
            "value": " 1011/2240 [29:46&lt;35:06,  1.71s/it]",
            "_view_count": null,
            "_view_module_version": "1.5.0",
            "description_tooltip": null,
            "_model_module": "@jupyter-widgets/controls",
            "layout": "IPY_MODEL_5be1d743a1f7463aa0ecb64d19184cb1"
          }
        },
        "5d9604daadb1494f9619afc87d992e0d": {
          "model_module": "@jupyter-widgets/controls",
          "model_name": "DescriptionStyleModel",
          "model_module_version": "1.5.0",
          "state": {
            "_view_name": "StyleView",
            "_model_name": "DescriptionStyleModel",
            "description_width": "",
            "_view_module": "@jupyter-widgets/base",
            "_model_module_version": "1.5.0",
            "_view_count": null,
            "_view_module_version": "1.2.0",
            "_model_module": "@jupyter-widgets/controls"
          }
        },
        "a475d636bc5b4f7f8dd833e474a46e31": {
          "model_module": "@jupyter-widgets/base",
          "model_name": "LayoutModel",
          "model_module_version": "1.2.0",
          "state": {
            "_view_name": "LayoutView",
            "grid_template_rows": null,
            "right": null,
            "justify_content": null,
            "_view_module": "@jupyter-widgets/base",
            "overflow": null,
            "_model_module_version": "1.2.0",
            "_view_count": null,
            "flex_flow": null,
            "width": null,
            "min_width": null,
            "border": null,
            "align_items": null,
            "bottom": null,
            "_model_module": "@jupyter-widgets/base",
            "top": null,
            "grid_column": null,
            "overflow_y": null,
            "overflow_x": null,
            "grid_auto_flow": null,
            "grid_area": null,
            "grid_template_columns": null,
            "flex": null,
            "_model_name": "LayoutModel",
            "justify_items": null,
            "grid_row": null,
            "max_height": null,
            "align_content": null,
            "visibility": null,
            "align_self": null,
            "height": null,
            "min_height": null,
            "padding": null,
            "grid_auto_rows": null,
            "grid_gap": null,
            "max_width": null,
            "order": null,
            "_view_module_version": "1.2.0",
            "grid_template_areas": null,
            "object_position": null,
            "object_fit": null,
            "grid_auto_columns": null,
            "margin": null,
            "display": null,
            "left": null
          }
        },
        "5edc16d82d0444ba996155021c340919": {
          "model_module": "@jupyter-widgets/controls",
          "model_name": "ProgressStyleModel",
          "model_module_version": "1.5.0",
          "state": {
            "_view_name": "StyleView",
            "_model_name": "ProgressStyleModel",
            "description_width": "",
            "_view_module": "@jupyter-widgets/base",
            "_model_module_version": "1.5.0",
            "_view_count": null,
            "_view_module_version": "1.2.0",
            "bar_color": null,
            "_model_module": "@jupyter-widgets/controls"
          }
        },
        "87326bcea45b490ea7255138d2676b21": {
          "model_module": "@jupyter-widgets/base",
          "model_name": "LayoutModel",
          "model_module_version": "1.2.0",
          "state": {
            "_view_name": "LayoutView",
            "grid_template_rows": null,
            "right": null,
            "justify_content": null,
            "_view_module": "@jupyter-widgets/base",
            "overflow": null,
            "_model_module_version": "1.2.0",
            "_view_count": null,
            "flex_flow": null,
            "width": null,
            "min_width": null,
            "border": null,
            "align_items": null,
            "bottom": null,
            "_model_module": "@jupyter-widgets/base",
            "top": null,
            "grid_column": null,
            "overflow_y": null,
            "overflow_x": null,
            "grid_auto_flow": null,
            "grid_area": null,
            "grid_template_columns": null,
            "flex": null,
            "_model_name": "LayoutModel",
            "justify_items": null,
            "grid_row": null,
            "max_height": null,
            "align_content": null,
            "visibility": null,
            "align_self": null,
            "height": null,
            "min_height": null,
            "padding": null,
            "grid_auto_rows": null,
            "grid_gap": null,
            "max_width": null,
            "order": null,
            "_view_module_version": "1.2.0",
            "grid_template_areas": null,
            "object_position": null,
            "object_fit": null,
            "grid_auto_columns": null,
            "margin": null,
            "display": null,
            "left": null
          }
        },
        "19913c50b70849489eef24e8247bc5bb": {
          "model_module": "@jupyter-widgets/controls",
          "model_name": "DescriptionStyleModel",
          "model_module_version": "1.5.0",
          "state": {
            "_view_name": "StyleView",
            "_model_name": "DescriptionStyleModel",
            "description_width": "",
            "_view_module": "@jupyter-widgets/base",
            "_model_module_version": "1.5.0",
            "_view_count": null,
            "_view_module_version": "1.2.0",
            "_model_module": "@jupyter-widgets/controls"
          }
        },
        "5be1d743a1f7463aa0ecb64d19184cb1": {
          "model_module": "@jupyter-widgets/base",
          "model_name": "LayoutModel",
          "model_module_version": "1.2.0",
          "state": {
            "_view_name": "LayoutView",
            "grid_template_rows": null,
            "right": null,
            "justify_content": null,
            "_view_module": "@jupyter-widgets/base",
            "overflow": null,
            "_model_module_version": "1.2.0",
            "_view_count": null,
            "flex_flow": null,
            "width": null,
            "min_width": null,
            "border": null,
            "align_items": null,
            "bottom": null,
            "_model_module": "@jupyter-widgets/base",
            "top": null,
            "grid_column": null,
            "overflow_y": null,
            "overflow_x": null,
            "grid_auto_flow": null,
            "grid_area": null,
            "grid_template_columns": null,
            "flex": null,
            "_model_name": "LayoutModel",
            "justify_items": null,
            "grid_row": null,
            "max_height": null,
            "align_content": null,
            "visibility": null,
            "align_self": null,
            "height": null,
            "min_height": null,
            "padding": null,
            "grid_auto_rows": null,
            "grid_gap": null,
            "max_width": null,
            "order": null,
            "_view_module_version": "1.2.0",
            "grid_template_areas": null,
            "object_position": null,
            "object_fit": null,
            "grid_auto_columns": null,
            "margin": null,
            "display": null,
            "left": null
          }
        }
      }
    }
  },
  "cells": [
    {
      "cell_type": "code",
      "metadata": {
        "id": "t6mkS2K2_9Lf"
      },
      "source": [
        "import matplotlib.pyplot as plt\n",
        "import matplotlib.image as mpimg\n",
        "import torch\n",
        "import os\n",
        "from tqdm.auto import tqdm\n",
        "from glob import glob\n",
        "import cv2\n",
        "import numpy as np\n",
        "import pandas as pd\n",
        "import PIL \n",
        "import urllib\n",
        "from torch import nn\n",
        "from torch import optim\n",
        "import torch.nn.functional as F\n",
        "from torchvision import datasets, transforms\n",
        "from random import uniform\n",
        "from imgaug import augmenters as iaa\n",
        "\n",
        "%config InlineBackend.figure_format = 'retina'\n",
        "%matplotlib inline"
      ],
      "execution_count": null,
      "outputs": []
    },
    {
      "cell_type": "code",
      "metadata": {
        "id": "GZ8g4tZL7F03"
      },
      "source": [
        "import torch.utils.data as td\n",
        "import torchvision as tv\n",
        "from PIL import Image\n",
        "import matplotlib.pyplot as plt\n",
        "import time"
      ],
      "execution_count": null,
      "outputs": []
    },
    {
      "cell_type": "code",
      "metadata": {
        "colab": {
          "base_uri": "https://localhost:8080/",
          "height": 35
        },
        "id": "-X34L5UwIemg",
        "outputId": "93c46484-4e65-43aa-c409-6f8d70943956"
      },
      "source": [
        "device = 'cpu'\n",
        "if torch.cuda.is_available():\n",
        "    device = 'cuda'\n",
        "    \n",
        "device"
      ],
      "execution_count": null,
      "outputs": [
        {
          "output_type": "execute_result",
          "data": {
            "application/vnd.google.colaboratory.intrinsic+json": {
              "type": "string"
            },
            "text/plain": [
              "'cuda'"
            ]
          },
          "metadata": {},
          "execution_count": 3
        }
      ]
    },
    {
      "cell_type": "code",
      "metadata": {
        "colab": {
          "base_uri": "https://localhost:8080/"
        },
        "id": "tALkYOd_7MGH",
        "outputId": "bfa78048-0981-4f99-fb3a-53196e10c3cc"
      },
      "source": [
        "!pip install pydicom"
      ],
      "execution_count": null,
      "outputs": [
        {
          "output_type": "stream",
          "name": "stdout",
          "text": [
            "Collecting pydicom\n",
            "  Downloading pydicom-2.2.2-py3-none-any.whl (2.0 MB)\n",
            "\u001b[K     |████████████████████████████████| 2.0 MB 5.1 MB/s \n",
            "\u001b[?25hInstalling collected packages: pydicom\n",
            "Successfully installed pydicom-2.2.2\n"
          ]
        }
      ]
    },
    {
      "cell_type": "code",
      "metadata": {
        "id": "uCqEeHYC7ISq"
      },
      "source": [
        "import pydicom as dcm"
      ],
      "execution_count": null,
      "outputs": []
    },
    {
      "cell_type": "code",
      "metadata": {
        "colab": {
          "base_uri": "https://localhost:8080/"
        },
        "id": "V4c7UOjt7ybJ",
        "outputId": "f8bfc7c0-4775-40f7-be7b-729f7eea9399"
      },
      "source": [
        "from google.colab import drive\n",
        "drive.mount._DEBUG = True\n",
        "drive.mount('/content/drive', force_remount=True)"
      ],
      "execution_count": null,
      "outputs": [
        {
          "output_type": "stream",
          "name": "stdout",
          "text": [
            "unset HISTFILE; export PS1=\"root@e4e0b9a44e40-545adb73d6f346f18a82b9105fe0123e: \"\n",
            "bash: cannot set terminal process group (-1): Inappropriate ioctl for device\n",
            "bash: no job control in this shell\n",
            "\u001b[01;34m/content\u001b[00m# root@e4e0b9a44e40-545adb73d6f346f18a82b9105fe0123e: umount -f /content/drive || umount /content/drive; pkill -9 -x drive\n",
            "umount: /content/drive: no mount point specified.\n",
            "umount: /content/drive: no mount point specified.\n",
            "root@e4e0b9a44e40-545adb73d6f346f18a82b9105fe0123e: pkill -9 -f /opt/google/drive/directoryprefetcher_binary\n",
            "root@e4e0b9a44e40-545adb73d6f346f18a82b9105fe0123e: ( while `sleep 0.5`; do if [[ -d \"/content/drive\" && \"$(ls -A /content/drive)\" != \"\" ]]; then echo \"google.colab.drive MOUNTED\"; break; fi; done ) &\n",
            "[1] 147\n",
            "root@e4e0b9a44e40-545adb73d6f346f18a82b9105fe0123e: cat /tmp/tmphdw_12m1/drive.fifo | head -1 | ( /opt/google/drive/drive --features=fuse_max_background:1000,max_read_qps:1000,max_write_qps:1000,max_operation_batch_size:15,max_parallel_push_task_instances:10,opendir_timeout_ms:120000,virtual_folders_omit_spaces:true --inet_family=IPV4_ONLY --preferences=trusted_root_certs_file_path:/opt/google/drive/roots.pem,mount_point_path:/content/drive --console_auth 2>&1 | grep --line-buffered -E \"(Go to this URL in a browser: https://.*)$|Drive File Stream encountered a problem and has stopped|Authorization failed|The domain policy has disabled Drive File Stream\"; echo \"drive EXITED\"; ) &\n",
            "[2] 151\n",
            "root@e4e0b9a44e40-545adb73d6f346f18a82b9105fe0123e: Go to this URL in a browser: https://accounts.google.com/o/oauth2/auth?client_id=947318989803-6bn6qk8qdgf4n4g3pfee6491hc0brc4i.apps.googleusercontent.com&redirect_uri=urn%3aietf%3awg%3aoauth%3a2.0%3aoob&scope=email%20https%3a%2f%2fwww.googleapis.com%2fauth%2fdocs.test%20https%3a%2f%2fwww.googleapis.com%2fauth%2fdrive%20https%3a%2f%2fwww.googleapis.com%2fauth%2fdrive.photos.readonly%20https%3a%2f%2fwww.googleapis.com%2fauth%2fpeopleapi.readonly%20https%3a%2f%2fwww.googleapis.com%2fauth%2fdrive.activity.readonly%20https%3a%2f%2fwww.googleapis.com%2fauth%2fexperimentsandconfigs%20https%3a%2f%2fwww.googleapis.com%2fauth%2fphotos.native&response_type=code\n",
            "google.colab.drive MOUNTED\n",
            "fuser -kw \"/root/.config/Google/DriveFS/Logs/timeouts.txt\" ; rm -rf \"/root/.config/Google/DriveFS/Logs/timeouts.txt\"\n",
            "Specified filename /root/.config/Google/DriveFS/Logs/timeouts.txt does not exist.\n",
            "root@e4e0b9a44e40-545adb73d6f346f18a82b9105fe0123e: nohup bash -c 'tail -n +0 -F \"/root/.config/Google/DriveFS/Logs/drive_fs.txt\" | python3 /opt/google/drive/drive-filter.py > \"/root/.config/Google/DriveFS/Logs/timeouts.txt\" ' < /dev/null > /dev/null 2>&1 &\n",
            "[3] 289\n",
            "root@e4e0b9a44e40-545adb73d6f346f18a82b9105fe0123e: disown -a\n",
            "root@e4e0b9a44e40-545adb73d6f346f18a82b9105fe0123e: exit\n",
            "Mounted at /content/drive\n"
          ]
        }
      ]
    },
    {
      "cell_type": "code",
      "metadata": {
        "id": "_0LeWnrf7pxM"
      },
      "source": [
        "os.chdir('./drive/MyDrive/CapDi/Kidney/train/')"
      ],
      "execution_count": null,
      "outputs": []
    },
    {
      "cell_type": "markdown",
      "metadata": {
        "id": "BQG8RrO1RPN7"
      },
      "source": [
        "전처리\n",
        "\n",
        "\n",
        "*   https://github.com/tuvovan/Unet-with-EfficientnetB7-Backbone/blob/master/Body%20Morphometry.ipynb\n",
        "\n",
        "\n",
        "모델\n",
        "\n",
        "\n",
        "*   https://github.com/IanTaehoonYoo/semantic-segmentation-pytorch\n",
        "\n",
        "\n"
      ]
    },
    {
      "cell_type": "code",
      "metadata": {
        "colab": {
          "base_uri": "https://localhost:8080/",
          "height": 35
        },
        "id": "EmiTRmsl9PzI",
        "outputId": "96d7006e-e879-4a9a-e2d2-374f52547ab2"
      },
      "source": [
        "device = 'cpu'\n",
        "if torch.cuda.is_available():\n",
        "    device = 'cuda'\n",
        "    \n",
        "device"
      ],
      "execution_count": null,
      "outputs": [
        {
          "output_type": "execute_result",
          "data": {
            "application/vnd.google.colaboratory.intrinsic+json": {
              "type": "string"
            },
            "text/plain": [
              "'cuda'"
            ]
          },
          "metadata": {},
          "execution_count": 8
        }
      ]
    },
    {
      "cell_type": "code",
      "metadata": {
        "id": "OL4PsCAWIlot"
      },
      "source": [
        "from skimage.transform import resize\n",
        "from skimage.io import imread\n",
        "import numpy as np\n",
        "import pydicom\n",
        "\n",
        "def transform_to_hu(medical_image, image):\n",
        "    hu_image = image * medical_image.RescaleSlope + medical_image.RescaleIntercept\n",
        "    hu_image[hu_image < -1024] = -1024\n",
        "    return hu_image\n",
        "\n",
        "def window_image(image, window_center, window_width):\n",
        "    window_image = image.copy()\n",
        "    image_min = window_center - (window_width / 2)\n",
        "    image_max = window_center + (window_width / 2)\n",
        "    window_image[window_image < image_min] = image_min\n",
        "    window_image[window_image > image_max] = image_max\n",
        "    return window_image\n",
        "\n",
        "def resize_normalize(image):\n",
        "    image = np.array(image, dtype=np.float64)\n",
        "    image -= np.min(image)\n",
        "    image /= np.max(image)\n",
        "    return image\n",
        "\n",
        "def read_dicom(image_medical, window_widht, window_level):\n",
        "    image_data = image_medical.pixel_array\n",
        "\n",
        "    image_hu = transform_to_hu(image_medical, image_data)\n",
        "    image_window = window_image(image_hu.copy(), window_level, window_widht)\n",
        "    image_window_norm = resize_normalize(image_window)\n",
        "#     image_window_norm = image_window\n",
        "\n",
        "    image_window_norm = np.expand_dims(image_window_norm, axis=2)   # (512, 512, 1)\n",
        "    image_ths = np.concatenate([image_window_norm, image_window_norm, image_window_norm], axis=2)   # (512, 512, 3)\n",
        "    #print(image_window_norm.shape)\n",
        "    return image_ths\n",
        "\n",
        "def to_binary(img, lower, upper):\n",
        "    return (lower <= img) & (img <= upper)"
      ],
      "execution_count": null,
      "outputs": []
    },
    {
      "cell_type": "code",
      "metadata": {
        "id": "QYRisXzBI22p"
      },
      "source": [
        "def mask_binarization(mask, threshold=None):\n",
        "    if threshold is None:\n",
        "        threshold = 0.5\n",
        "\n",
        "    if isinstance(mask, np.ndarray):\n",
        "        mask_binarized = (mask > threshold).astype(np.uint8)\n",
        "    \n",
        "    elif isinstance(mask, torch.Tensor):\n",
        "        zeros = torch.zeros_like(mask)\n",
        "        ones = torch.ones_like(mask)\n",
        "        \n",
        "        mask_binarized = torch.where(mask > threshold, ones, zeros)\n",
        "    \n",
        "    return mask_binarized\n",
        "\n",
        "def augment_imgs_and_masks(imgs, masks, rot_factor, scale_factor, trans_factor, flip):\n",
        "    rot_factor = uniform(-rot_factor, rot_factor)\n",
        "    ran_alp = uniform(10,100)\n",
        "    scale_factor = uniform(1-scale_factor, 1+scale_factor)\n",
        "    trans_factor = [int(imgs.shape[1]*uniform(-trans_factor, trans_factor)),\n",
        "                    int(imgs.shape[2]*uniform(-trans_factor, trans_factor))]\n",
        "\n",
        "    seq = iaa.Sequential([\n",
        "            iaa.Affine(\n",
        "                translate_px={\"x\": trans_factor[0], \"y\": trans_factor[1]},\n",
        "                scale=(scale_factor, scale_factor),\n",
        "                rotate=rot_factor\n",
        "            ),\n",
        "            #iaa.ElasticTransformation(alpha=ran_alp,sigma=5.0)\n",
        "        \n",
        "        ])\n",
        "\n",
        "    seq_det = seq.to_deterministic()\n",
        "\n",
        "    imgs = seq_det.augment_images(imgs)\n",
        "    masks = seq_det.augment_images(masks)\n",
        "\n",
        "    if flip and uniform(0, 1) > 0.5:\n",
        "        imgs = np.flip(imgs, 2).copy()\n",
        "        masks = np.flip(masks, 2).copy()\n",
        "    \n",
        "    masks = mask_binarization(masks).astype(np.float32)\n",
        "    return imgs, masks"
      ],
      "execution_count": null,
      "outputs": []
    },
    {
      "cell_type": "code",
      "metadata": {
        "id": "ARXf726QI22q"
      },
      "source": [
        "# Data augmentation\n",
        "rot_factor = 45. \n",
        "scale_factor = 0.15\n",
        "flip = False\n",
        "trans_factor = 0.1"
      ],
      "execution_count": null,
      "outputs": []
    },
    {
      "cell_type": "code",
      "metadata": {
        "id": "Ou_vStef7Kut"
      },
      "source": [
        "class MyDataset(torch.utils.data.Dataset):\n",
        "    def __init__(self, x_dir, y_dir,augmentation=True):\n",
        "        super().__init__()\n",
        "        \n",
        "        self.augmentation = augmentation\n",
        "        self.x_img = x_dir\n",
        "        self.y_img = y_dir   \n",
        "\n",
        "    def __len__(self):\n",
        "        return len(self.x_img)\n",
        "\n",
        "    def __getitem__(self, idx):\n",
        "        x_img = self.x_img[idx]\n",
        "        y_img = self.y_img[idx]\n",
        "        # Read an image with OpenCV\n",
        "        x_img = dcm.read_file(x_img)\n",
        "        y_img =  imread(y_img)\n",
        "\n",
        "        x_img=read_dicom(x_img,400,0)\n",
        "        x_img=np.transpose(x_img,(2,0,1))\n",
        "        x_img=x_img.astype(np.float32)\n",
        "\n",
        "        y_img = resize(y_img, (512, 512))*255\n",
        "        color_im = np.zeros([512, 512, 2])\n",
        "        for i in range(1,3):\n",
        "            encode_ = to_binary(y_img, i*1.0, i*1.0)\n",
        "            color_im[:, :, i-1] = encode_\n",
        "        color_im = np.transpose(color_im,(2,0,1))\n",
        "        # Data Augmentation\n",
        "        if self.augmentation:\n",
        "            img, mask = augment_imgs_and_masks(x_img, color_im, rot_factor, scale_factor, trans_factor, flip)\n",
        "        \n",
        "        return img,mask,y_img\n",
        "#         if self.transforms:\n",
        "#             augmented = self.transforms(image=x_img,mask=color_im)\n",
        "#             img = augmented['image']\n",
        "#             mask = augmented['mask']\n",
        "#             return img, mask,y_img\n",
        "# #         return x_img,color_im"
      ],
      "execution_count": null,
      "outputs": []
    },
    {
      "cell_type": "code",
      "metadata": {
        "id": "MK5j3S645aVz"
      },
      "source": [
        "data_path_folder=sorted(os.listdir(\"./train/DICOM/\")) \n",
        "label_path_folder=sorted(os.listdir(\"./train/Label/\"))"
      ],
      "execution_count": null,
      "outputs": []
    },
    {
      "cell_type": "code",
      "metadata": {
        "id": "LuECHhxG4jO2"
      },
      "source": [
        "#case 겹치지 않게 train,val 나누기\n",
        "import glob\n",
        "test_input_files=[]\n",
        "test_label_files=[]\n",
        "val_input_files=[]\n",
        "val_label_files=[]\n",
        "train_input_files=[]\n",
        "train_label_files=[]\n",
        "\n",
        "for i in range(100):\n",
        "  if i<70:\n",
        "    train_input_files+=sorted(glob.glob(\"./train/DICOM/\"+data_path_folder[i]+\"/*.dcm\",recursive=True))\n",
        "    train_label_files+=sorted(glob.glob(\"./train/Label/\"+label_path_folder[i]+\"/*.png\",recursive=True))\n",
        "  elif i<90:\n",
        "    val_input_files+=sorted(glob.glob(\"./train/DICOM/\"+data_path_folder[i]+\"/*.dcm\",recursive=True))\n",
        "    val_label_files+=sorted(glob.glob(\"./train/Label/\"+label_path_folder[i]+\"/*.png\",recursive=True))\n",
        "  else:  \n",
        "    test_input_files+=sorted(glob.glob(\"./train/DICOM/\"+data_path_folder[i]+\"/*.dcm\",recursive=True))\n",
        "    test_label_files+=sorted(glob.glob(\"./train/Label/\"+label_path_folder[i]+\"/*.png\",recursive=True)) "
      ],
      "execution_count": null,
      "outputs": []
    },
    {
      "cell_type": "code",
      "metadata": {
        "id": "B7JE1IDH8iTl"
      },
      "source": [
        "train_input_files = np.array(train_input_files)\n",
        "train_label_files = np.array(train_label_files)\n",
        "\n",
        "val_input_files = np.array(val_input_files)\n",
        "val_label_files = np.array(val_label_files)"
      ],
      "execution_count": null,
      "outputs": []
    },
    {
      "cell_type": "code",
      "metadata": {
        "colab": {
          "base_uri": "https://localhost:8080/"
        },
        "id": "gDn5LKmJTiM1",
        "outputId": "dbc8d628-f87d-48bc-df99-dd94fdafa14b"
      },
      "source": [
        "len(val_input_files)"
      ],
      "execution_count": null,
      "outputs": [
        {
          "output_type": "execute_result",
          "data": {
            "text/plain": [
              "1280"
            ]
          },
          "metadata": {},
          "execution_count": 16
        }
      ]
    },
    {
      "cell_type": "code",
      "metadata": {
        "id": "4isFVrb_8weM"
      },
      "source": [
        "train_dataset = MyDataset(train_input_files,train_label_files)\n",
        "train_loader = torch.utils.data.DataLoader(dataset=train_dataset, batch_size=2,shuffle=True)\n",
        "val_dataset = MyDataset(val_input_files,val_label_files)\n",
        "val_loader = torch.utils.data.DataLoader(dataset=val_dataset, batch_size=2,shuffle=True)"
      ],
      "execution_count": null,
      "outputs": []
    },
    {
      "cell_type": "code",
      "metadata": {
        "colab": {
          "base_uri": "https://localhost:8080/",
          "height": 263
        },
        "id": "1MJmXHLz88_3",
        "scrolled": true,
        "outputId": "3f529d85-9eb5-407f-9583-400f911bb679"
      },
      "source": [
        "##input과 label이 맞나 확인\n",
        "images,labels,a = next(iter(train_loader))\n",
        "# print(images.shape)\n",
        "# print(labels.shape)\n",
        "print(labels[labels>1])\n",
        "plt.figure(figsize=(16,18))\n",
        "plt.subplot(1,4,1)\n",
        "plt.imshow(images[0][0],cmap='gray')\n",
        "plt.subplot(1,4,2)\n",
        "plt.imshow(labels[0][0])\n",
        "plt.subplot(1,4,3)\n",
        "plt.imshow(labels[0][1])\n",
        "plt.subplot(1,4,4)\n",
        "plt.imshow(a[0])\n",
        "plt.show()"
      ],
      "execution_count": null,
      "outputs": [
        {
          "output_type": "stream",
          "name": "stdout",
          "text": [
            "tensor([])\n"
          ]
        },
        {
          "output_type": "display_data",
          "data": {
            "image/png": "[encoded data removed]",
            "text/plain": [
              "<Figure size 1152x1296 with 4 Axes>"
            ]
          },
          "metadata": {
            "image/png": {
              "width": 938,
              "height": 228
            },
            "needs_background": "light"
          }
        }
      ]
    },
    {
      "cell_type": "code",
      "metadata": {
        "id": "-RPu17l8trAm"
      },
      "source": [
        "def compute_per_channel_dice(input, target, epsilon=1e-5,ignore_index=None, weight=None):\n",
        "    # assumes that input is a normalized probability\n",
        "    # input and target shapes must match\n",
        "    assert input.size() == target.size(), \"'input' and 'target' must have the same shape\"\n",
        "\n",
        "    # mask ignore_index if present\n",
        "    if ignore_index is not None:\n",
        "        mask = target.clone().ne_(ignore_index)\n",
        "        mask.requires_grad = False\n",
        "\n",
        "        input = input * mask\n",
        "        target = target * mask\n",
        "\n",
        "    input = flatten(input)\n",
        "    target = flatten(target)\n",
        "\n",
        "    # Compute per channel Dice Coefficient\n",
        "    intersect = (input * target).sum(-1)\n",
        "    if weight is not None:\n",
        "        intersect = weight * intersect\n",
        "\n",
        "    denominator = (input + target).sum(-1)\n",
        "    return 2. * intersect / denominator.clamp(min=epsilon)\n",
        "\n",
        "def flatten(tensor):\n",
        "    \"\"\"Flattens a given tensor such that the channel axis is first.\n",
        "    The shapes are transformed as follows:\n",
        "       (N, C, D, H, W) -> (C, N * D * H * W)\n",
        "    \"\"\"\n",
        "    C = tensor.size(1)\n",
        "    # new axis order\n",
        "    axis_order = (1, 0) + tuple(range(2, tensor.dim()))\n",
        "    # Transpose: (N, C, D, H, W) -> (C, N, D, H, W)\n",
        "    transposed = tensor.permute(axis_order).contiguous()\n",
        "    # Flatten: (C, N, D, H, W) -> (C, N * D * H * W)\n",
        "    return transposed.view(C, -1)\n",
        "\n",
        "class DiceLoss(nn.Module):\n",
        "    \"\"\"Computes Dice Loss, which just 1 - DiceCoefficient described above.\n",
        "    Additionally allows per-class weights to be provided.\n",
        "    \"\"\"\n",
        "\n",
        "    def __init__(self, epsilon=1e-5, weight=None, ignore_index=None, sigmoid_normalization=True,\n",
        "                 skip_last_target=False):\n",
        "        super(DiceLoss, self).__init__()\n",
        "        if isinstance(weight, list):\n",
        "            weight = torch.Tensor(weight)\n",
        "            \n",
        "        self.epsilon = epsilon\n",
        "        self.register_buffer('weight', weight)\n",
        "        self.ignore_index = ignore_index\n",
        "\n",
        "        if sigmoid_normalization:\n",
        "            self.normalization = nn.Sigmoid()\n",
        "        else:\n",
        "            self.normalization = nn.Softmax(dim=1)\n",
        "        # if True skip the last channel in the target\n",
        "        self.skip_last_target = skip_last_target\n",
        "\n",
        "    def forward(self, input, target):\n",
        "        # get probabilities from logits\n",
        "\n",
        "        input = self.normalization(input)\n",
        "        if self.weight is not None:\n",
        "            weight = Variable(self.weight, requires_grad=False).to(input.device)\n",
        "        else:\n",
        "            weight = None\n",
        "\n",
        "        if self.skip_last_target:\n",
        "            target = target[:, :-1, ...]\n",
        "\n",
        "        per_channel_dice = compute_per_channel_dice(input, target, epsilon=self.epsilon, ignore_index=self.ignore_index, weight=weight)\n",
        "        # Average the Dice score across all channels/classes\n",
        "        return torch.mean(1. - per_channel_dice)"
      ],
      "execution_count": null,
      "outputs": []
    },
    {
      "cell_type": "code",
      "metadata": {
        "id": "CT1XuWj1fm4O"
      },
      "source": [
        "class UNet(nn.Module):\n",
        "    def __init__(self):\n",
        "        super(UNet, self).__init__()\n",
        "\n",
        "        def CBR2d(in_channels, out_channels, kernel_size=3, stride=1, padding=1, bias=True):\n",
        "            layers = []\n",
        "            layers += [nn.Conv2d(in_channels=in_channels, out_channels=out_channels,\n",
        "                                 kernel_size=kernel_size, stride=stride, padding=padding,\n",
        "                                 bias=bias)]\n",
        "            layers += [nn.BatchNorm2d(num_features=out_channels)]\n",
        "            layers += [nn.ReLU()]\n",
        "\n",
        "            cbr = nn.Sequential(*layers)\n",
        "\n",
        "            return cbr\n",
        "\n",
        "\n",
        "        self.enc1_1 = CBR2d(in_channels=3, out_channels=128)\n",
        "        self.enc1_2 = CBR2d(in_channels=128, out_channels=128)\n",
        "\n",
        "        self.pool1 = nn.MaxPool2d(kernel_size=2)\n",
        "\n",
        "        self.enc2_1 = CBR2d(in_channels=128, out_channels=256)\n",
        "        self.enc2_2 = CBR2d(in_channels=256, out_channels=256)\n",
        "\n",
        "        self.pool2 = nn.MaxPool2d(kernel_size=2)\n",
        "\n",
        "        self.enc3_1 = CBR2d(in_channels=256, out_channels=512)\n",
        "        self.enc3_2 = CBR2d(in_channels=512, out_channels=512)\n",
        "\n",
        "        self.pool3 = nn.MaxPool2d(kernel_size=2)\n",
        "\n",
        "        self.enc4_1 = CBR2d(in_channels=512, out_channels=1024)\n",
        "        self.enc4_2 = CBR2d(in_channels=1024, out_channels=1024)\n",
        "\n",
        "        self.pool4 = nn.MaxPool2d(kernel_size=2)\n",
        "\n",
        "        self.enc5_1 = CBR2d(in_channels=1024, out_channels=2048)\n",
        "        \n",
        "\n",
        "        self.dec5_1 = CBR2d(in_channels=2048, out_channels=1024)\n",
        "\n",
        "        self.unpool4 = nn.ConvTranspose2d(in_channels=1024, out_channels=1024,\n",
        "                                          kernel_size=2, stride=2, padding=0, bias=True)\n",
        "\n",
        "        self.dec4_2 = CBR2d(in_channels=2 * 1024, out_channels=1024)\n",
        "        self.dec4_1 = CBR2d(in_channels=1024, out_channels=512)\n",
        "\n",
        "        self.unpool3 = nn.ConvTranspose2d(in_channels=512, out_channels=512,\n",
        "                                          kernel_size=2, stride=2, padding=0, bias=True)\n",
        "\n",
        "        self.dec3_2 = CBR2d(in_channels=2 * 512, out_channels=512)\n",
        "        self.dec3_1 = CBR2d(in_channels=512, out_channels=256)\n",
        "\n",
        "        self.unpool2 = nn.ConvTranspose2d(in_channels=256, out_channels=256,\n",
        "                                          kernel_size=2, stride=2, padding=0, bias=True)\n",
        "\n",
        "        self.dec2_2 = CBR2d(in_channels=2 * 256, out_channels=256)\n",
        "        self.dec2_1 = CBR2d(in_channels=256, out_channels=128)\n",
        "\n",
        "        self.unpool1 = nn.ConvTranspose2d(in_channels=128, out_channels=128,\n",
        "                                          kernel_size=2, stride=2, padding=0, bias=True)\n",
        "\n",
        "        self.dec1_2 = CBR2d(in_channels=2 * 128, out_channels=128)\n",
        "        self.dec1_1 = CBR2d(in_channels=128, out_channels=128)\n",
        "\n",
        "        self.fc = nn.Conv2d(in_channels=128, out_channels=2, kernel_size=1, stride=1, padding=0, bias=True)\n",
        "\n",
        "    def forward(self, x):\n",
        "        enc1_1 = self.enc1_1(x)\n",
        "        enc1_2 = self.enc1_2(enc1_1)\n",
        "        pool1 = self.pool1(enc1_2)\n",
        "\n",
        "        enc2_1 = self.enc2_1(pool1)\n",
        "        enc2_2 = self.enc2_2(enc2_1)\n",
        "        pool2 = self.pool2(enc2_2)\n",
        "\n",
        "        enc3_1 = self.enc3_1(pool2)\n",
        "        enc3_2 = self.enc3_2(enc3_1)\n",
        "        pool3 = self.pool3(enc3_2)\n",
        "\n",
        "        enc4_1 = self.enc4_1(pool3)\n",
        "        enc4_2 = self.enc4_2(enc4_1)\n",
        "        pool4 = self.pool4(enc4_2)\n",
        "\n",
        "        enc5_1 = self.enc5_1(pool4)\n",
        "        dec5_1 = self.dec5_1(enc5_1)\n",
        "\n",
        "        unpool4 = self.unpool4(dec5_1)\n",
        "        cat4 = torch.cat((unpool4, enc4_2), dim=1)\n",
        "        dec4_2 = self.dec4_2(cat4)\n",
        "        dec4_1 = self.dec4_1(dec4_2)\n",
        "\n",
        "        unpool3 = self.unpool3(dec4_1)\n",
        "        cat3 = torch.cat((unpool3, enc3_2), dim=1)\n",
        "        dec3_2 = self.dec3_2(cat3)\n",
        "        dec3_1 = self.dec3_1(dec3_2)\n",
        "\n",
        "        unpool2 = self.unpool2(dec3_1)\n",
        "        cat2 = torch.cat((unpool2, enc2_2), dim=1)\n",
        "        dec2_2 = self.dec2_2(cat2)\n",
        "        dec2_1 = self.dec2_1(dec2_2)\n",
        "\n",
        "        unpool1 = self.unpool1(dec2_1)\n",
        "        cat1 = torch.cat((unpool1, enc1_2), dim=1)\n",
        "        dec1_2 = self.dec1_2(cat1)\n",
        "        dec1_1 = self.dec1_1(dec1_2)\n",
        "\n",
        "        x = self.fc(dec1_1)\n",
        "        return x"
      ],
      "execution_count": null,
      "outputs": []
    },
    {
      "cell_type": "code",
      "metadata": {
        "id": "JqIBpujq56m6"
      },
      "source": [
        "from sklearn.metrics import confusion_matrix  \n",
        " #mport numpy as np\n",
        "\n",
        "def compute_iou(y_pred, y_true):\n",
        "    y_pred=y_pred.detach().cpu()\n",
        "    y_true=y_true.detach().cpu()\n",
        "    # ytrue, ypred is a flatten vector\n",
        "    y_pred = y_pred.flatten()\n",
        "    y_true = y_true.flatten()\n",
        "    current = confusion_matrix(y_true, y_pred, labels=[0, 1])\n",
        "    # compute mean iou\n",
        "    intersection = np.diag(current)\n",
        "    ground_truth_set = current.sum(axis=1)\n",
        "    predicted_set = current.sum(axis=0)\n",
        "    union = ground_truth_set + predicted_set - intersection\n",
        "    IoU = intersection / union.astype(np.float32)\n",
        "    return np.mean(IoU)"
      ],
      "execution_count": null,
      "outputs": []
    },
    {
      "cell_type": "code",
      "metadata": {
        "id": "TiRaw4B39P1e"
      },
      "source": [
        "import torch.optim as optim\n",
        "criterion =  DiceLoss(sigmoid_normalization=True)\n",
        "model = UNet().to(device)\n",
        "optimizer = optim.Adam(model.parameters(), lr=0.001)\n",
        "# optimizer = optim.Adam(model.parameters(), lr=0.001)\n",
        "# criterion = F.binary_cross_entropy_with_logits(logits,labels)\n",
        "# criterion = torch.nn.BCEWithLogitsLoss(logits, labels)\n",
        "scheduler = optim.lr_scheduler.ReduceLROnPlateau(optimizer, 'min', patience=6)\n"
      ],
      "execution_count": null,
      "outputs": []
    },
    {
      "cell_type": "code",
      "metadata": {
        "collapsed": true,
        "id": "yeCbq_D5I22s",
        "colab": {
          "base_uri": "https://localhost:8080/"
        },
        "outputId": "52a116fb-e9f8-488e-cb42-516c4b1407e2"
      },
      "source": [
        "#model\n",
        "model.load_state_dict(torch.load('model_best_2.pt'))"
      ],
      "execution_count": null,
      "outputs": [
        {
          "output_type": "execute_result",
          "data": {
            "text/plain": [
              "<All keys matched successfully>"
            ]
          },
          "metadata": {},
          "execution_count": 23
        }
      ]
    },
    {
      "cell_type": "code",
      "metadata": {
        "colab": {
          "base_uri": "https://localhost:8080/"
        },
        "id": "Eb7basNdI22s",
        "outputId": "5264a5e8-8a19-4abc-eb85-f6391334e71e"
      },
      "source": [
        "sum([param.nelement() for param in model.parameters()])"
      ],
      "execution_count": null,
      "outputs": [
        {
          "output_type": "execute_result",
          "data": {
            "text/plain": [
              "93489538"
            ]
          },
          "metadata": {},
          "execution_count": 24
        }
      ]
    },
    {
      "cell_type": "code",
      "metadata": {
        "colab": {
          "base_uri": "https://localhost:8080/",
          "height": 254,
          "referenced_widgets": [
            "8f556779baa84f65b570793716022aae",
            "bca048c802ce415db7cce002deaa9c50",
            "47f283337ca94b148ef6a6dbdd8f6634",
            "7689f69fcde5411b8e6ecbff2efa71ad",
            "d28f8cd1db584f26b122694b6b23f0fa",
            "5d9604daadb1494f9619afc87d992e0d",
            "a475d636bc5b4f7f8dd833e474a46e31",
            "5edc16d82d0444ba996155021c340919",
            "87326bcea45b490ea7255138d2676b21",
            "19913c50b70849489eef24e8247bc5bb",
            "5be1d743a1f7463aa0ecb64d19184cb1"
          ]
        },
        "id": "BxFM0Rno9xtV",
        "outputId": "5fddc324-fc81-4a2e-f1bd-7f4d1c9d2dbe"
      },
      "source": [
        "n_epochs = 100 #38\n",
        "cnt =0\n",
        "valid_loss_min = 0.498442 # track change in validation loss\n",
        "\n",
        "# keep track of training and validation loss\n",
        "train_loss = torch.zeros(n_epochs)\n",
        "valid_loss = torch.zeros(n_epochs)\n",
        "Iou=0\n",
        "model.to(device)\n",
        "for e in range(0, n_epochs):\n",
        "\n",
        "   \n",
        "    ###################\n",
        "    # train the model #\n",
        "    ###################\n",
        "    model.train()\n",
        "    for data, labels,a in tqdm(train_loader):\n",
        "        # move tensors to GPU if CUDA is available\n",
        "        data, labels = data.to(device), labels.to(device) #cpu에 있는 데이터를 gpu에 보냄\n",
        "        # clear the gradients of all optimized variables\n",
        "#         print(data.shape)\n",
        "#         break\n",
        "        optimizer.zero_grad()\n",
        "        # forward pass: compute predicted outputs by passing inputs to the model\n",
        "        logits = model(data)\n",
        "        \n",
        "        # calculate the batch loss\n",
        "        loss = criterion(logits, labels)\n",
        "        # backward pass: compute gradient of the loss with respect to model parameters\n",
        "        loss.backward()\n",
        "        # perform a single optimization step (parameter update)\n",
        "        optimizer.step()\n",
        "        # update training loss\n",
        "        train_loss[e] += loss.item()\n",
        "        \n",
        "        \n",
        "#         z=logits.detach().cpu().numpy()\n",
        "#         z = z.astype(np.uint8)\n",
        "        cnt = cnt+1\n",
        "        \n",
        "        \n",
        "        if cnt %1000==0:\n",
        "            \n",
        "            logits = logits.sigmoid()\n",
        "            logits = mask_binarization(logits.detach().cpu(), 0.5)\n",
        "            iou = compute_iou(logits,labels)\n",
        "            print(iou)\n",
        "            # y=torch.squeeze(labels[0])\n",
        "            y=logits[0].detach().cpu().numpy()\n",
        "            # x=data[0].detach().cpu().numpy()\n",
        "            x=labels[0].detach().cpu().numpy()\n",
        "            #y=labels[0].numpy()\n",
        "            plt.figure(figsize=(16,18))\n",
        "            plt.subplot(1,5,1)\n",
        "            plt.imshow(x[0])\n",
        "            plt.subplot(1,5,2)\n",
        "            plt.imshow(x[1])\n",
        "            plt.subplot(1,5,3)\n",
        "            plt.imshow(y[0])\n",
        "            plt.subplot(1,5,4)\n",
        "            plt.imshow(y[1])\n",
        "            plt.subplot(1,5,5)\n",
        "            plt.imshow(a[0])\n",
        "            plt.show()\n",
        "\n",
        "    \n",
        "    train_loss[e] /= len(train_loader)\n",
        "    #torch.save(model.state_dict(), 'model_.pt')\n",
        "        \n",
        "    ######################    \n",
        "    # validate the model #\n",
        "    ######################\n",
        "    with torch.no_grad(): \n",
        "        model.eval()\n",
        "        for data, labels,a in tqdm(val_loader):\n",
        "            # move tensors to GPU if CUDA is available\n",
        "            data, labels = data.to(device), labels.to(device)\n",
        "            # forward pass: compute predicted outputs by passing inputs to the model\n",
        "            logits = model(data)\n",
        "            # calculate the batch loss\n",
        "            loss = criterion(logits, labels)\n",
        "            # update average validation loss \n",
        "            valid_loss[e] += loss.item()\n",
        "\n",
        "    \n",
        "    # calculate average losses\n",
        "    valid_loss[e] /= len(val_loader)\n",
        "    scheduler.step(valid_loss[e])    \n",
        "    # print training/validation statistics \n",
        "    print('Epoch: {} \\tTraining Loss: {:.6f} \\tValidation Loss: {:.6f}'.format(\n",
        "        e, train_loss[e], valid_loss[e]))\n",
        "    \n",
        "    # save model if validation loss has decreased\n",
        "    if valid_loss[e] <= valid_loss_min:\n",
        "        print('Validation loss decreased ({:.6f} --> {:.6f}).  Saving model ...'.format(\n",
        "        valid_loss_min,\n",
        "        valid_loss[e]))\n",
        "        torch.save(model.state_dict(), 'model_best_2.pt')\n",
        "        valid_loss_min = valid_loss[e]"
      ],
      "execution_count": null,
      "outputs": [
        {
          "output_type": "display_data",
          "data": {
            "application/vnd.jupyter.widget-view+json": {
              "model_id": "8f556779baa84f65b570793716022aae",
              "version_minor": 0,
              "version_major": 2
            },
            "text/plain": [
              "  0%|          | 0/2240 [00:00<?, ?it/s]"
            ]
          },
          "metadata": {}
        },
        {
          "output_type": "stream",
          "name": "stdout",
          "text": [
            "0.9849097917014009\n"
          ]
        },
        {
          "output_type": "display_data",
          "data": {
            "image/png": "[encoded data removed]",
            "text/plain": [
              "<Figure size 1152x1296 with 5 Axes>"
            ]
          },
          "metadata": {
            "image/png": {
              "width": 933,
              "height": 188
            },
            "needs_background": "light"
          }
        }
      ]
    },
    {
      "cell_type": "code",
      "metadata": {
        "id": "j5pC9vPXQ30y"
      },
      "source": [
        "#Loss\n",
        "plt.plot(train_loss)\n",
        "plt.plot(valid_loss)"
      ],
      "execution_count": null,
      "outputs": []
    },
    {
      "cell_type": "code",
      "metadata": {
        "id": "-kyvSyrk_gP7"
      },
      "source": [
        "# model.load_state_dict(torch.load('model_.pt'))\n",
        "model.load_state_dict(torch.load('model_best_2.pt'))"
      ],
      "execution_count": null,
      "outputs": []
    },
    {
      "cell_type": "code",
      "metadata": {
        "id": "7tjs6fZDF1nP"
      },
      "source": [
        "len(test_input_files)"
      ],
      "execution_count": null,
      "outputs": []
    },
    {
      "cell_type": "code",
      "metadata": {
        "id": "K-aiH1HO_3fI"
      },
      "source": [
        "class TestMyDataset(torch.utils.data.Dataset):\n",
        "    def __init__(self, x_dir,y_dir,augmentation = False):\n",
        "        super().__init__()\n",
        "        self.augmentation = augmentation\n",
        "        self.x_img = x_dir\n",
        "        self.y_img = y_dir\n",
        "     \n",
        "\n",
        "    def __len__(self):\n",
        "        return len(self.x_img)\n",
        "    \n",
        "\n",
        "    def __getitem__(self, idx):\n",
        "        x_img = self.x_img[idx]\n",
        "        y_img = self.y_img[idx]\n",
        "        # Read an image with OpenCV\n",
        "        if x_img[-1]=='m' or y_img[-1]=='g':         \n",
        "            x_img = dcm.read_file(x_img)\n",
        "            x_img=read_dicom(x_img,400,50)\n",
        "            x_img=np.transpose(x_img,(2,0,1))\n",
        "            x_img=x_img.astype(np.float32)\n",
        "        else:\n",
        "            x_img = np.load(x_img)\n",
        "            x_img=resize_normalize(x_img)\n",
        "            y_img = np.load(y_img)\n",
        "\n",
        "        image_window_norm = np.expand_dims(x_img, axis=2)   # (512, 512, 1)\n",
        "        x_img = np.concatenate([image_window_norm, image_window_norm, image_window_norm], axis=2)   # (512, 512, 3)\n",
        "        x_img=np.transpose(x_img,(2,0,1))\n",
        "        x_img=x_img.astype(np.float32)\n",
        "        \n",
        "        y_img = y_img\n",
        "        color_im = np.zeros([512, 512, 2])\n",
        "        for i in range(1,3):\n",
        "            encode_ = to_binary(y_img, i*1.0, i*1.0) * 255\n",
        "            color_im[:, :, i-1] = encode_\n",
        "        color_im = np.transpose(color_im,(2,0,1))\n",
        "        # Data Augmentation\n",
        "        if self.augmentation:\n",
        "            img, mask = augment_imgs_and_masks(x_img, color_im, rot_factor, scale_factor, trans_factor, flip)\n",
        "\n",
        "        return x_img,color_im,y_img"
      ],
      "execution_count": null,
      "outputs": []
    },
    {
      "cell_type": "code",
      "metadata": {
        "id": "IuULlvWU4Hd-"
      },
      "source": [
        "test_dataset = TestMyDataset(test_input_files,test_label_files)\n",
        "test_loader = torch.utils.data.DataLoader(dataset=test_dataset, batch_size=1,shuffle=True)"
      ],
      "execution_count": null,
      "outputs": []
    },
    {
      "cell_type": "code",
      "metadata": {
        "id": "2D3WKq4uxEwv"
      },
      "source": [
        "len(test_loader)"
      ],
      "execution_count": null,
      "outputs": []
    },
    {
      "cell_type": "code",
      "metadata": {
        "id": "j3_Ig2EjI22v"
      },
      "source": [
        "images,labels,a = next(iter(test_loader))\n",
        "print(images.shape)\n",
        "print(labels.shape)\n",
        "plt.figure(figsize=(16,18))\n",
        "plt.subplot(1,4,1)\n",
        "plt.imshow(images[0][0])\n",
        "plt.subplot(1,4,2)\n",
        "plt.imshow(labels[0][0])\n",
        "plt.subplot(1,4,3)\n",
        "plt.imshow(labels[0][1])\n",
        "plt.subplot(1,4,4)\n",
        "plt.imshow(a[0])\n",
        "plt.show()"
      ],
      "execution_count": null,
      "outputs": []
    },
    {
      "cell_type": "code",
      "metadata": {
        "id": "cADTTLy3Gcod"
      },
      "source": [
        "cnt =0\n",
        "Iou=0\n",
        "model.to(device)\n",
        "\n",
        "with torch.no_grad(): \n",
        "        model.eval()\n",
        "        for data, labels,a in tqdm(test_loader):\n",
        "                data, labels = data.to(device), labels.to(device)\n",
        "                logits = model(data)\n",
        "                logits = logits.sigmoid()\n",
        "                logits = mask_binarization(logits.detach().cpu(), 0.5)\n",
        "                iouu = compute_iou(logits,labels)\n",
        "                iouu=np.round(iouu,3)*100\n",
        "                if np.isnan(iouu)==True:\n",
        "                    iouu=100\n",
        "                Iou+=iouu\n",
        "\n",
        "                labels=labels[0].detach().cpu().numpy()\n",
        "                logits=logits[0].detach().cpu().numpy()\n",
        "                cnt = cnt+1\n",
        "\n"
      ],
      "execution_count": null,
      "outputs": []
    },
    {
      "cell_type": "code",
      "metadata": {
        "id": "aA7mWturo0pV"
      },
      "source": [
        "print(\"Iou:\",Iou/len(test_loader))"
      ],
      "execution_count": null,
      "outputs": []
    }
  ]
}